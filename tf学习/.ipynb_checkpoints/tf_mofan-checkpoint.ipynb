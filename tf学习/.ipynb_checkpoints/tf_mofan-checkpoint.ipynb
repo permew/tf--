{
 "cells": [
  {
   "cell_type": "code",
   "execution_count": 13,
   "metadata": {},
   "outputs": [
    {
     "name": "stdout",
     "output_type": "stream",
     "text": [
      "0 [-0.41547745] [0.7102778]\n",
      "20 [-0.06789331] [0.38106427]\n",
      "40 [0.05128796] [0.32351974]\n",
      "60 [0.08586683] [0.30682397]\n",
      "80 [0.09589944] [0.3019799]\n",
      "100 [0.09881029] [0.30057445]\n",
      "120 [0.09965482] [0.30016667]\n",
      "140 [0.09989985] [0.30004838]\n",
      "160 [0.09997094] [0.30001405]\n",
      "180 [0.09999157] [0.3000041]\n",
      "200 [0.09999755] [0.3000012]\n"
     ]
    }
   ],
   "source": [
    "import tensorflow as tf\n",
    "import numpy as np\n",
    "# create data\n",
    "x_data = np.random.rand(100).astype(np.float32)    #定制数据float32 随机100\n",
    "y_data = x_data*0.1 + 0.3\n",
    "#create tensorflow structure start#\n",
    "Weights = tf.Variable(tf.random_uniform([1],-1.0-1.0))#也许是矩阵  随机数列生成 1维 范围，-1到1\n",
    "biases = tf.Variable(tf.zeros([1]))\n",
    "y = Weights * x_data + biases\n",
    "loss = tf.reduce_mean(tf.square(y_data - y))   \n",
    "optimizer = tf.train.GradientDescentOptimizer(0.5) #梯度下降 学习效率 < 1\n",
    "train = optimizer.minimize(loss)   #减少误差\n",
    "init = tf.global_variables_initializer()  #初始化\n",
    "#create tensorflow structure end#\n",
    "\n",
    "sess = tf.Session()\n",
    "sess.run(init)#指向要处理的地方  激活初始化  very important\n",
    "for step in range(201):\n",
    "    sess.run(train)\n",
    "    if step % 20 == 0:\n",
    "        print(step,sess.run(Weights), sess.run(biases))\n",
    "\n"
   ]
  },
  {
   "cell_type": "code",
   "execution_count": null,
   "metadata": {},
   "outputs": [],
   "source": []
  }
 ],
 "metadata": {
  "kernelspec": {
   "display_name": "Python 3",
   "language": "python",
   "name": "python3"
  },
  "language_info": {
   "codemirror_mode": {
    "name": "ipython",
    "version": 3
   },
   "file_extension": ".py",
   "mimetype": "text/x-python",
   "name": "python",
   "nbconvert_exporter": "python",
   "pygments_lexer": "ipython3",
   "version": "3.6.4"
  }
 },
 "nbformat": 4,
 "nbformat_minor": 2
}
